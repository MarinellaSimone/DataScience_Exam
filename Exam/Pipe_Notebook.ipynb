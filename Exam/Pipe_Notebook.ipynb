{
  "nbformat": 4,
  "nbformat_minor": 0,
  "metadata": {
    "colab": {
      "name": "Pipe_Notebook.ipynb",
      "provenance": [],
      "collapsed_sections": []
    },
    "kernelspec": {
      "name": "python3",
      "display_name": "Python 3"
    },
    "language_info": {
      "name": "python"
    }
  },
  "cells": [
    {
      "cell_type": "code",
      "execution_count": 17,
      "metadata": {
        "id": "DV7n0fJNNZqg"
      },
      "outputs": [],
      "source": [
        "#importing data \n",
        "import pandas as pd\n",
        "import numpy as np\n",
        "\n",
        "#preprocessing \n",
        "from imblearn.over_sampling import SMOTE\n",
        "from sklearn import metrics\n",
        "from scipy import stats\n",
        "from sklearn.preprocessing import OneHotEncoder, StandardScaler \n",
        "\n",
        "#modeling \n",
        "from sklearn.dummy import DummyClassifier\n",
        "from sklearn.linear_model import LogisticRegression\n",
        "from sklearn.neighbors import KNeighborsClassifier\n",
        "from sklearn.model_selection import StratifiedKFold\n",
        "from sklearn.model_selection import GridSearchCV\n",
        "from sklearn.model_selection import cross_val_score, train_test_split\n",
        "from sklearn.ensemble import RandomForestClassifier\n",
        "from sklearn import tree\n",
        "\n",
        "from sklearn.metrics import accuracy_score, f1_score, classification_report, confusion_matrix \n",
        "from sklearn.metrics import ConfusionMatrixDisplay\n",
        "from sklearn.metrics import roc_curve, plot_roc_curve, roc_auc_score, auc\n",
        "from sklearn.metrics import precision_recall_curve, plot_precision_recall_curve\n",
        "from pandas.plotting import scatter_matrix\n",
        "\n",
        "#pipeline \n",
        "from sklearn.decomposition import PCA\n",
        "from imblearn.pipeline import Pipeline\n",
        "from sklearn.experimental import enable_halving_search_cv\n",
        "from sklearn.model_selection import GridSearchCV, HalvingGridSearchCV"
      ]
    },
    {
      "cell_type": "code",
      "source": [
        "x_train_data = pd.read_csv('/content/X_train.csv')\n",
        "y_train_data = pd.read_csv('/content/y_train.csv')\n",
        "\n",
        "join = (x_train_data, y_train_data['target'])\n",
        "df = pd.concat(join, axis = True)\n",
        "\n",
        "df.rename(columns= {\"city\": \"City\", \"city_development_index\":\"City_development_index\", \"enrollee_id\": \"Enrollee_id\", \"gender\": \"Gender\", \"relevent_experience\" : \"Relevent_experience\", \"enrolled_university\":\"University_enrollment\", \"major_discipline\": \"Discipline\", \"education_level\": \"Education_level\", \"experience\": \"Experience\", \"company_size\": \"Company_size\", \"company_type\":\"Company_type\", \"last_new_job\":\"Last_job\", \"training_hours\":\"Training_hours\"}, inplace=True)\n",
        "df = df.set_index('Enrollee_id')"
      ],
      "metadata": {
        "id": "x70V7ZYANfxk"
      },
      "execution_count": 18,
      "outputs": []
    },
    {
      "cell_type": "code",
      "source": [
        "df = df.drop(['Company_size', 'Company_type', 'City','City_development_index' ], axis = 1)\n",
        "df.drop_duplicates(keep = False, inplace = True)\n",
        "df[\"Gender\"] = df[\"Gender\"].fillna(\"Unknown\")\n",
        "df[\"Education_level\"]= df[\"Education_level\"].fillna(\"Unknown\")\n",
        "df[\"Discipline\"].fillna(value=\"Unknown\", inplace=True)\n",
        "df[\"University_enrollment\"] = df[\"University_enrollment\"].fillna('Unknown')\n",
        "df[\"Last_job\"] = df[\"Last_job\"].fillna('Unknown') \n",
        "df[\"Experience\"] = df[\"Experience\"].fillna(0)\n",
        "\n",
        "cat_cols = df.select_dtypes(['object']).columns\n",
        "\n",
        "for i in cat_cols:\n",
        "    temp = pd.get_dummies(df[i], drop_first=True)\n",
        "    df = pd.concat([df, temp], axis=1)\n",
        "    df.drop(i, inplace=True, axis=1)"
      ],
      "metadata": {
        "id": "Of5P_4PsNonF"
      },
      "execution_count": 3,
      "outputs": []
    },
    {
      "cell_type": "code",
      "source": [
        "X_= df.drop('target', axis = 1)\n",
        "X = np.array(X_)\n",
        "y = df['target']"
      ],
      "metadata": {
        "id": "X0dqkdV6N0DY"
      },
      "execution_count": 4,
      "outputs": []
    },
    {
      "cell_type": "code",
      "source": [
        "X_train, X_test, y_train, y_test = train_test_split(X, y, test_size = 0.2, random_state = 101)\n",
        "print(X_train.shape)\n",
        "print(y_train.shape)\n",
        "print(X_test.shape)\n",
        "print(y_test.shape)"
      ],
      "metadata": {
        "colab": {
          "base_uri": "https://localhost:8080/"
        },
        "id": "V8EAO3vcOD9Z",
        "outputId": "daab4520-b855-47e0-8d40-b265d7184445"
      },
      "execution_count": 5,
      "outputs": [
        {
          "output_type": "stream",
          "name": "stdout",
          "text": [
            "(8864, 47)\n",
            "(8864,)\n",
            "(2217, 47)\n",
            "(2217,)\n"
          ]
        }
      ]
    },
    {
      "cell_type": "code",
      "source": [
        "pipe_lr = Pipeline([\n",
        "                          ('smote', SMOTE()),\n",
        "                          ('standardscaler', StandardScaler()),\n",
        "                          ('pca', PCA()),\n",
        "                          ('logisticregression', LogisticRegression(max_iter=3000))\n",
        "])\n",
        "\n",
        "param_grid_lr = {\n",
        "    \"smote__k_neighbors\": [10, 12, 14],\n",
        "    \"pca__svd_solver\": ['full'],\n",
        "    \"logisticregression__C\": [0.0001, 0.001, 0.01, 0.1, 1, 10, 100], \n",
        "    \"logisticregression__random_state\": [42, 54, 100]\n",
        "}"
      ],
      "metadata": {
        "id": "9imSzf5WPMqd"
      },
      "execution_count": 31,
      "outputs": []
    },
    {
      "cell_type": "code",
      "source": [
        "pipe_knn = Pipeline([\n",
        "                          ('smote', SMOTE()),\n",
        "                          ('standardscaler', StandardScaler()),\n",
        "                          ('pca', PCA()),\n",
        "                          ('knn', KNeighborsClassifier())\n",
        "])\n",
        "\n",
        "param_grid_knn = {'knn__n_neighbors': [5, 25], \n",
        "                  'knn__weights': ['uniform', 'distance'],\n",
        "                  'knn__metric':[\"euclidean\",\"manhattan\"], \n",
        "                  \"smote__k_neighbors\": [10, 12, 14],\n",
        "                  \"pca__svd_solver\": ['full'],\n",
        "}"
      ],
      "metadata": {
        "id": "u-rhviSINnXy"
      },
      "execution_count": 9,
      "outputs": []
    },
    {
      "cell_type": "code",
      "source": [
        "pipe = pipe_knn\n",
        "param_grid = param_grid_knn\n",
        "\n",
        "inner_cv_folds = 5\n",
        "outer_cv_folds = 4\n",
        "\n",
        "inner_cv = StratifiedKFold(n_splits = inner_cv_folds)\n",
        "outer_cv = StratifiedKFold(n_splits = outer_cv_folds)\n",
        "\n",
        "gscv = HalvingGridSearchCV(\n",
        "    pipe,\n",
        "    param_grid = param_grid,\n",
        "    cv = inner_cv,\n",
        "    scoring = 'accuracy'\n",
        ")"
      ],
      "metadata": {
        "id": "fJf9C7JDPPUJ"
      },
      "execution_count": 19,
      "outputs": []
    },
    {
      "cell_type": "code",
      "source": [
        "cvs = cross_val_score(\n",
        "    gscv,\n",
        "    X = X,\n",
        "    y = y,\n",
        "    scoring = 'accuracy',\n",
        "    cv = outer_cv\n",
        ")\n",
        "\n",
        "print(cvs)\n",
        "print(cvs.mean())\n",
        "print(cvs.std())"
      ],
      "metadata": {
        "colab": {
          "base_uri": "https://localhost:8080/"
        },
        "id": "b49V6kyIPSh-",
        "outputId": "7130ce8d-ee04-458d-9b8c-4b422f28e281"
      },
      "execution_count": 20,
      "outputs": [
        {
          "output_type": "stream",
          "name": "stdout",
          "text": [
            "[0.70371707 0.70794224 0.70180505 0.67400722]\n",
            "0.6968678955713312\n",
            "0.013384116185096395\n"
          ]
        }
      ]
    },
    {
      "cell_type": "code",
      "source": [
        "gscv.fit(X, y)\n",
        "print(gscv.best_estimator_)\n",
        "print(gscv.best_params_)"
      ],
      "metadata": {
        "colab": {
          "base_uri": "https://localhost:8080/"
        },
        "id": "GmEz65czOFUt",
        "outputId": "b43f8763-cb0c-490d-f343-ffc176773a7b"
      },
      "execution_count": 21,
      "outputs": [
        {
          "output_type": "stream",
          "name": "stdout",
          "text": [
            "Pipeline(steps=[('smote', SMOTE(k_neighbors=12)),\n",
            "                ('standardscaler', StandardScaler()),\n",
            "                ('pca', PCA(svd_solver='full')),\n",
            "                ('knn',\n",
            "                 KNeighborsClassifier(metric='manhattan', n_neighbors=25))])\n",
            "{'knn__metric': 'manhattan', 'knn__n_neighbors': 25, 'knn__weights': 'uniform', 'pca__svd_solver': 'full', 'smote__k_neighbors': 12}\n"
          ]
        }
      ]
    },
    {
      "cell_type": "code",
      "source": [
        "pred = gscv.predict_proba(X_test)\n",
        "print(pred)"
      ],
      "metadata": {
        "colab": {
          "base_uri": "https://localhost:8080/"
        },
        "id": "ksqpwrDaO-y1",
        "outputId": "2f572a7a-60a5-4c80-a7a0-471a6d559375"
      },
      "execution_count": 22,
      "outputs": [
        {
          "output_type": "stream",
          "name": "stdout",
          "text": [
            "[[0.76 0.24]\n",
            " [0.4  0.6 ]\n",
            " [0.48 0.52]\n",
            " ...\n",
            " [0.64 0.36]\n",
            " [0.72 0.28]\n",
            " [0.56 0.44]]\n"
          ]
        }
      ]
    }
  ]
}